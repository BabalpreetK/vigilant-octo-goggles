{
  "cells": [
    {
      "cell_type": "markdown",
      "metadata": {
        "id": "view-in-github",
        "colab_type": "text"
      },
      "source": [
        "<a href=\"https://colab.research.google.com/github/BabalpreetK/vigilant-octo-goggles/blob/main/Copy_of_Final.ipynb\" target=\"_parent\"><img src=\"https://colab.research.google.com/assets/colab-badge.svg\" alt=\"Open In Colab\"/></a>"
      ]
    },
    {
      "cell_type": "code",
      "execution_count": null,
      "metadata": {
        "colab": {
          "base_uri": "https://localhost:8080/"
        },
        "id": "It3FKJRbsbMX",
        "outputId": "d40ef990-fe46-49ad-824a-70b3ab6785dc"
      },
      "outputs": [
        {
          "output_type": "stream",
          "name": "stdout",
          "text": [
            "Collecting adversarial-robustness-toolbox\n",
            "  Downloading adversarial_robustness_toolbox-1.19.0-py3-none-any.whl.metadata (11 kB)\n",
            "Requirement already satisfied: torch in /usr/local/lib/python3.10/dist-packages (2.5.1+cu121)\n",
            "Requirement already satisfied: torchvision in /usr/local/lib/python3.10/dist-packages (0.20.1+cu121)\n",
            "Requirement already satisfied: matplotlib in /usr/local/lib/python3.10/dist-packages (3.10.0)\n",
            "Requirement already satisfied: scikit-learn in /usr/local/lib/python3.10/dist-packages (1.6.0)\n",
            "Requirement already satisfied: numpy>=1.18.0 in /usr/local/lib/python3.10/dist-packages (from adversarial-robustness-toolbox) (1.26.4)\n",
            "Requirement already satisfied: scipy>=1.4.1 in /usr/local/lib/python3.10/dist-packages (from adversarial-robustness-toolbox) (1.13.1)\n",
            "Requirement already satisfied: six in /usr/local/lib/python3.10/dist-packages (from adversarial-robustness-toolbox) (1.17.0)\n",
            "Requirement already satisfied: setuptools in /usr/local/lib/python3.10/dist-packages (from adversarial-robustness-toolbox) (75.1.0)\n",
            "Requirement already satisfied: tqdm in /usr/local/lib/python3.10/dist-packages (from adversarial-robustness-toolbox) (4.67.1)\n",
            "Requirement already satisfied: filelock in /usr/local/lib/python3.10/dist-packages (from torch) (3.16.1)\n",
            "Requirement already satisfied: typing-extensions>=4.8.0 in /usr/local/lib/python3.10/dist-packages (from torch) (4.12.2)\n",
            "Requirement already satisfied: networkx in /usr/local/lib/python3.10/dist-packages (from torch) (3.4.2)\n",
            "Requirement already satisfied: jinja2 in /usr/local/lib/python3.10/dist-packages (from torch) (3.1.5)\n",
            "Requirement already satisfied: fsspec in /usr/local/lib/python3.10/dist-packages (from torch) (2024.10.0)\n",
            "Requirement already satisfied: sympy==1.13.1 in /usr/local/lib/python3.10/dist-packages (from torch) (1.13.1)\n",
            "Requirement already satisfied: mpmath<1.4,>=1.1.0 in /usr/local/lib/python3.10/dist-packages (from sympy==1.13.1->torch) (1.3.0)\n",
            "Requirement already satisfied: pillow!=8.3.*,>=5.3.0 in /usr/local/lib/python3.10/dist-packages (from torchvision) (11.1.0)\n",
            "Requirement already satisfied: contourpy>=1.0.1 in /usr/local/lib/python3.10/dist-packages (from matplotlib) (1.3.1)\n",
            "Requirement already satisfied: cycler>=0.10 in /usr/local/lib/python3.10/dist-packages (from matplotlib) (0.12.1)\n",
            "Requirement already satisfied: fonttools>=4.22.0 in /usr/local/lib/python3.10/dist-packages (from matplotlib) (4.55.3)\n",
            "Requirement already satisfied: kiwisolver>=1.3.1 in /usr/local/lib/python3.10/dist-packages (from matplotlib) (1.4.8)\n",
            "Requirement already satisfied: packaging>=20.0 in /usr/local/lib/python3.10/dist-packages (from matplotlib) (24.2)\n",
            "Requirement already satisfied: pyparsing>=2.3.1 in /usr/local/lib/python3.10/dist-packages (from matplotlib) (3.2.1)\n",
            "Requirement already satisfied: python-dateutil>=2.7 in /usr/local/lib/python3.10/dist-packages (from matplotlib) (2.8.2)\n",
            "Requirement already satisfied: joblib>=1.2.0 in /usr/local/lib/python3.10/dist-packages (from scikit-learn) (1.4.2)\n",
            "Requirement already satisfied: threadpoolctl>=3.1.0 in /usr/local/lib/python3.10/dist-packages (from scikit-learn) (3.5.0)\n",
            "Requirement already satisfied: MarkupSafe>=2.0 in /usr/local/lib/python3.10/dist-packages (from jinja2->torch) (3.0.2)\n",
            "Downloading adversarial_robustness_toolbox-1.19.0-py3-none-any.whl (1.7 MB)\n",
            "\u001b[2K   \u001b[90m━━━━━━━━━━━━━━━━━━━━━━━━━━━━━━━━━━━━━━━━\u001b[0m \u001b[32m1.7/1.7 MB\u001b[0m \u001b[31m25.7 MB/s\u001b[0m eta \u001b[36m0:00:00\u001b[0m\n",
            "\u001b[?25hInstalling collected packages: adversarial-robustness-toolbox\n",
            "Successfully installed adversarial-robustness-toolbox-1.19.0\n"
          ]
        }
      ],
      "source": [
        "!pip install adversarial-robustness-toolbox torch torchvision matplotlib scikit-learn\n"
      ]
    },
    {
      "cell_type": "code",
      "execution_count": null,
      "metadata": {
        "colab": {
          "base_uri": "https://localhost:8080/"
        },
        "id": "WmxRZgChs7sW",
        "outputId": "5990ed4e-a392-4b76-c78f-a0f44d9464e8"
      },
      "outputs": [
        {
          "output_type": "stream",
          "name": "stdout",
          "text": [
            "Downloading http://yann.lecun.com/exdb/mnist/train-images-idx3-ubyte.gz\n",
            "Failed to download (trying next):\n",
            "HTTP Error 403: Forbidden\n",
            "\n",
            "Downloading https://ossci-datasets.s3.amazonaws.com/mnist/train-images-idx3-ubyte.gz\n",
            "Downloading https://ossci-datasets.s3.amazonaws.com/mnist/train-images-idx3-ubyte.gz to ./data/MNIST/raw/train-images-idx3-ubyte.gz\n"
          ]
        },
        {
          "output_type": "stream",
          "name": "stderr",
          "text": [
            "100%|██████████| 9.91M/9.91M [00:00<00:00, 16.3MB/s]\n"
          ]
        },
        {
          "output_type": "stream",
          "name": "stdout",
          "text": [
            "Extracting ./data/MNIST/raw/train-images-idx3-ubyte.gz to ./data/MNIST/raw\n",
            "\n",
            "Downloading http://yann.lecun.com/exdb/mnist/train-labels-idx1-ubyte.gz\n",
            "Failed to download (trying next):\n",
            "HTTP Error 403: Forbidden\n",
            "\n",
            "Downloading https://ossci-datasets.s3.amazonaws.com/mnist/train-labels-idx1-ubyte.gz\n",
            "Downloading https://ossci-datasets.s3.amazonaws.com/mnist/train-labels-idx1-ubyte.gz to ./data/MNIST/raw/train-labels-idx1-ubyte.gz\n"
          ]
        },
        {
          "output_type": "stream",
          "name": "stderr",
          "text": [
            "100%|██████████| 28.9k/28.9k [00:00<00:00, 460kB/s]\n"
          ]
        },
        {
          "output_type": "stream",
          "name": "stdout",
          "text": [
            "Extracting ./data/MNIST/raw/train-labels-idx1-ubyte.gz to ./data/MNIST/raw\n",
            "\n",
            "Downloading http://yann.lecun.com/exdb/mnist/t10k-images-idx3-ubyte.gz\n",
            "Failed to download (trying next):\n",
            "HTTP Error 403: Forbidden\n",
            "\n",
            "Downloading https://ossci-datasets.s3.amazonaws.com/mnist/t10k-images-idx3-ubyte.gz\n",
            "Downloading https://ossci-datasets.s3.amazonaws.com/mnist/t10k-images-idx3-ubyte.gz to ./data/MNIST/raw/t10k-images-idx3-ubyte.gz\n"
          ]
        },
        {
          "output_type": "stream",
          "name": "stderr",
          "text": [
            "100%|██████████| 1.65M/1.65M [00:00<00:00, 3.98MB/s]\n"
          ]
        },
        {
          "output_type": "stream",
          "name": "stdout",
          "text": [
            "Extracting ./data/MNIST/raw/t10k-images-idx3-ubyte.gz to ./data/MNIST/raw\n",
            "\n",
            "Downloading http://yann.lecun.com/exdb/mnist/t10k-labels-idx1-ubyte.gz\n",
            "Failed to download (trying next):\n",
            "HTTP Error 403: Forbidden\n",
            "\n",
            "Downloading https://ossci-datasets.s3.amazonaws.com/mnist/t10k-labels-idx1-ubyte.gz\n",
            "Downloading https://ossci-datasets.s3.amazonaws.com/mnist/t10k-labels-idx1-ubyte.gz to ./data/MNIST/raw/t10k-labels-idx1-ubyte.gz\n"
          ]
        },
        {
          "output_type": "stream",
          "name": "stderr",
          "text": [
            "100%|██████████| 4.54k/4.54k [00:00<00:00, 11.4MB/s]"
          ]
        },
        {
          "output_type": "stream",
          "name": "stdout",
          "text": [
            "Extracting ./data/MNIST/raw/t10k-labels-idx1-ubyte.gz to ./data/MNIST/raw\n",
            "\n"
          ]
        },
        {
          "output_type": "stream",
          "name": "stderr",
          "text": [
            "\n"
          ]
        }
      ],
      "source": [
        "import torch\n",
        "from torchvision.datasets import MNIST\n",
        "from torchvision.transforms import ToTensor, Normalize, Compose\n",
        "from torch.utils.data import DataLoader\n",
        "\n",
        "# Define transformations\n",
        "transform = Compose([ToTensor(), Normalize((0.5,), (0.5,))])\n",
        "\n",
        "# Load MNIST dataset\n",
        "train_dataset = MNIST(root=\"./data\", train=True, transform=transform, download=True)\n",
        "test_dataset = MNIST(root=\"./data\", train=False, transform=transform, download=True)\n",
        "\n",
        "# Create DataLoaders\n",
        "train_loader = DataLoader(train_dataset, batch_size=128, shuffle=True)\n",
        "test_loader = DataLoader(test_dataset, batch_size=128, shuffle=False)\n"
      ]
    },
    {
      "cell_type": "code",
      "execution_count": null,
      "metadata": {
        "id": "kGKGYYK6tJMH"
      },
      "outputs": [],
      "source": [
        "import torch.nn as nn\n",
        "\n",
        "class AdvancedCNN(nn.Module):\n",
        "    def __init__(self):\n",
        "        super(AdvancedCNN, self).__init__()\n",
        "        self.conv1 = nn.Conv2d(1, 32, kernel_size=3, padding=1)\n",
        "        self.conv2 = nn.Conv2d(32, 64, kernel_size=3, padding=1)\n",
        "        self.pool = nn.MaxPool2d(2, 2)\n",
        "\n",
        "        # Compute the size after convolutions and pooling\n",
        "        self.flattened_size = self._get_flattened_size()\n",
        "\n",
        "        self.fc1 = nn.Linear(self.flattened_size, 128)\n",
        "        self.fc2 = nn.Linear(128, 10)\n",
        "\n",
        "    def _get_flattened_size(self):\n",
        "        # Pass a dummy tensor to calculate the flattened size\n",
        "        dummy_input = torch.zeros(1, 1, 28, 28)\n",
        "        x = self.pool(torch.relu(self.conv2(torch.relu(self.conv1(dummy_input)))))\n",
        "        return x.numel()\n",
        "\n",
        "    def forward(self, x):\n",
        "        x = torch.relu(self.conv1(x))\n",
        "        x = self.pool(torch.relu(self.conv2(x)))\n",
        "        x = x.view(x.size(0), -1)\n",
        "        x = torch.relu(self.fc1(x))\n",
        "        x = self.fc2(x)\n",
        "        return x\n"
      ]
    },
    {
      "cell_type": "code",
      "execution_count": null,
      "metadata": {
        "colab": {
          "base_uri": "https://localhost:8080/"
        },
        "id": "JKIJASI3tOqf",
        "outputId": "0944461b-c7f1-4d2f-df56-b7f358e8e6a8"
      },
      "outputs": [
        {
          "output_type": "stream",
          "name": "stdout",
          "text": [
            "Epoch 1/10, Loss: 0.18415689077188593\n",
            "Epoch 2/10, Loss: 0.04649020994562648\n",
            "Epoch 3/10, Loss: 0.028136516591833867\n",
            "Epoch 4/10, Loss: 0.018408995271394297\n",
            "Epoch 5/10, Loss: 0.013102677557046518\n",
            "Epoch 6/10, Loss: 0.010101833919427846\n",
            "Epoch 7/10, Loss: 0.00813671352238077\n",
            "Epoch 8/10, Loss: 0.007067698652629923\n",
            "Epoch 9/10, Loss: 0.006167322070799087\n",
            "Epoch 10/10, Loss: 0.005217211905382506\n"
          ]
        }
      ],
      "source": [
        "import torch.optim as optim\n",
        "\n",
        "# Initialize model, loss, and optimizer\n",
        "model = AdvancedCNN()\n",
        "criterion = nn.CrossEntropyLoss()\n",
        "optimizer = optim.Adam(model.parameters(), lr=0.001)\n",
        "\n",
        "# Training loop\n",
        "epochs = 10  # Set higher epochs for better accuracy\n",
        "\n",
        "for epoch in range(epochs):\n",
        "    model.train()\n",
        "    running_loss = 0.0\n",
        "    for inputs, targets in train_loader:\n",
        "        optimizer.zero_grad()\n",
        "        outputs = model(inputs)\n",
        "        loss = criterion(outputs, targets)\n",
        "        loss.backward()\n",
        "        optimizer.step()\n",
        "        running_loss += loss.item()\n",
        "\n",
        "    print(f\"Epoch {epoch + 1}/{epochs}, Loss: {running_loss / len(train_loader)}\")\n"
      ]
    },
    {
      "cell_type": "code",
      "source": [
        "model.eval()\n",
        "correct = 0\n",
        "total = 0\n",
        "\n",
        "with torch.no_grad():\n",
        "    for inputs, targets in test_loader:\n",
        "        outputs = model(inputs)\n",
        "        _, predicted = torch.max(outputs.data, 1)\n",
        "        total += targets.size(0)\n",
        "        correct += (predicted == targets).sum().item()\n",
        "\n",
        "print(f\"Accuracy on test dataset: {100 * correct / total:.2f}%\")\n"
      ],
      "metadata": {
        "colab": {
          "base_uri": "https://localhost:8080/"
        },
        "id": "WDjfz_tc3fba",
        "outputId": "efa421b0-cb81-4e86-8d79-c5d1fc401653"
      },
      "execution_count": null,
      "outputs": [
        {
          "output_type": "stream",
          "name": "stdout",
          "text": [
            "Accuracy on test dataset: 98.96%\n"
          ]
        }
      ]
    },
    {
      "cell_type": "code",
      "source": [
        "import matplotlib.pyplot as plt\n",
        "import numpy as np\n",
        "\n",
        "# Plot training loss and test accuracy\n",
        "def plot_metrics(train_losses, test_accuracies):\n",
        "    epochs = range(1, len(train_losses) + 1)\n",
        "\n",
        "    plt.figure(figsize=(12, 5))\n",
        "\n",
        "    # Training Loss\n",
        "    plt.subplot(1, 2, 1)\n",
        "    plt.plot(epochs, train_losses, 'b-o', label='Training Loss')\n",
        "    plt.xlabel('Epochs')\n",
        "    plt.ylabel('Loss')\n",
        "    plt.title('Training Loss over Epochs')\n",
        "    plt.legend()\n",
        "\n",
        "    # Test Accuracy\n",
        "    plt.subplot(1, 2, 2)\n",
        "    plt.plot(epochs, test_accuracies, 'g-o', label='Test Accuracy')\n",
        "    plt.xlabel('Epochs')\n",
        "    plt.ylabel('Accuracy')\n",
        "    plt.title('Test Accuracy over Epochs')\n",
        "    plt.legend()\n",
        "\n",
        "    plt.tight_layout()\n",
        "    plt.show()\n",
        "\n",
        "# Visualize some test predictions\n",
        "def visualize_predictions(model, test_loader, classes):\n",
        "    model.eval()\n",
        "    data_iter = iter(test_loader)\n",
        "    images, labels = next(data_iter)\n",
        "\n",
        "    with torch.no_grad():\n",
        "        outputs = model(images)\n",
        "        _, predictions = torch.max(outputs, 1)\n",
        "\n",
        "    # Show a few images with predictions\n",
        "    fig = plt.figure(figsize=(12, 6))\n",
        "    for i in range(10):  # Display first 10 images\n",
        "        ax = fig.add_subplot(2, 5, i + 1)\n",
        "        img = images[i].squeeze(0).numpy()\n",
        "        ax.imshow(img, cmap='gray')\n",
        "        ax.set_title(f\"True: {classes[labels[i]]}\\nPred: {classes[predictions[i]]}\",\n",
        "                     color='green' if labels[i] == predictions[i] else 'red')\n",
        "        ax.axis('off')\n",
        "    plt.tight_layout()\n",
        "    plt.show()\n",
        "\n",
        "# Example usage after training\n",
        "train_losses = [0.1841, 0.0464, 0.0281, 0.0184, 0.0131, 0.0101, 0.0081, 0.0070, 0.0061, 0.0052]  # Replace with actual losses\n",
        "test_accuracies = [98.96] * 10  # Replace with actual accuracies if tracked\n",
        "\n",
        "plot_metrics(train_losses, test_accuracies)\n",
        "visualize_predictions(model, test_loader, classes=[\"0\", \"1\", \"2\", \"3\", \"4\", \"5\", \"6\", \"7\", \"8\", \"9\"])\n"
      ],
      "metadata": {
        "colab": {
          "base_uri": "https://localhost:8080/",
          "height": 1000
        },
        "id": "kj9fckkDCc-M",
        "outputId": "9a8d321b-c56c-4059-a4c5-0084344eeb8d"
      },
      "execution_count": null,
      "outputs": [
        {
          "output_type": "display_data",
          "data": {
            "text/plain": [
              "<Figure size 1200x500 with 2 Axes>"
            ],
            "image/png": "[encoded data removed]"
          },
          "metadata": {}
        },
        {
          "output_type": "display_data",
          "data": {
            "text/plain": [
              "<Figure size 1200x600 with 10 Axes>"
            ],
            "image/png": "[encoded data removed]"
          },
          "metadata": {}
        }
      ]
    },
    {
      "cell_type": "code",
      "source": [
        "import torch\n",
        "\n",
        "# FGSM attack function\n",
        "def fgsm_attack(model, image, label, epsilon=0.1):\n",
        "    # Set model to evaluation mode\n",
        "    model.eval()\n",
        "\n",
        "    # Set requires_grad to True for the image tensor\n",
        "    image.requires_grad = True\n",
        "\n",
        "    # Forward pass\n",
        "    output = model(image)\n",
        "    loss = criterion(output, label)\n",
        "\n",
        "    # Zero all existing gradients\n",
        "    model.zero_grad()\n",
        "\n",
        "    # Backpropagate to get gradients of loss w.r.t. image\n",
        "    loss.backward()\n",
        "\n",
        "    # Collect the gradient of the image\n",
        "    image_grad = image.grad.data\n",
        "\n",
        "    # Create the adversarial image by adjusting the image in the direction of the gradient\n",
        "    adversarial_image = image + epsilon * image_grad.sign()\n",
        "\n",
        "    # Clamp the image to be in the valid range\n",
        "    adversarial_image = torch.clamp(adversarial_image, 0, 1)\n",
        "\n",
        "    return adversarial_image\n"
      ],
      "metadata": {
        "id": "eHLIu0HZD3Ws"
      },
      "execution_count": null,
      "outputs": []
    },
    {
      "cell_type": "code",
      "source": [
        "import torch\n",
        "import matplotlib.pyplot as plt\n",
        "\n",
        "# FGSM attack function\n",
        "def fgsm_attack(model, image, label, epsilon=0.1):\n",
        "    model.eval()  # Set model to evaluation mode\n",
        "    image.requires_grad = True  # Set requires_grad to True for image tensor\n",
        "\n",
        "    # Forward pass\n",
        "    output = model(image)\n",
        "    loss = criterion(output, label)\n",
        "\n",
        "    # Zero all existing gradients\n",
        "    model.zero_grad()\n",
        "\n",
        "    # Backpropagate to get gradients of loss w.r.t. image\n",
        "    loss.backward()\n",
        "\n",
        "    # Collect the gradient of the image\n",
        "    image_grad = image.grad.data\n",
        "\n",
        "    # Create the adversarial image by adjusting the image in the direction of the gradient\n",
        "    adversarial_image = image + epsilon * image_grad.sign()\n",
        "\n",
        "    # Clamp the image to be in the valid range\n",
        "    adversarial_image = torch.clamp(adversarial_image, 0, 1)\n",
        "\n",
        "    return adversarial_image\n",
        "\n",
        "# Generate adversarial examples\n",
        "num_samples = 5\n",
        "images, labels = next(iter(test_loader))  # Fetch a batch of images and labels\n",
        "\n",
        "# Create adversarial examples\n",
        "adversarial_images = fgsm_attack(model, images, labels, epsilon=0.1)\n",
        "\n",
        "# Plot original and adversarial images with predicted and true labels\n",
        "plt.figure(figsize=(10, 10))\n",
        "\n",
        "for i in range(num_samples):\n",
        "    # Original Image\n",
        "    plt.subplot(2, num_samples, i+1)\n",
        "    plt.imshow(images[i].detach().cpu().numpy().squeeze(), cmap='gray')  # Detach tensor from graph\n",
        "    plt.title(f'True: {labels[i].item()}')\n",
        "    plt.axis('off')\n",
        "\n",
        "    # Adversarial Image\n",
        "    plt.subplot(2, num_samples, i+1+num_samples)\n",
        "    plt.imshow(adversarial_images[i].detach().cpu().numpy().squeeze(), cmap='gray')  # Detach tensor from graph\n",
        "    plt.title(f'Pred: {model(adversarial_images[i:i+1]).argmax().item()}')\n",
        "    plt.axis('off')\n",
        "\n",
        "plt.show()\n",
        "\n",
        "# Evaluate the model on adversarial examples\n",
        "correct = 0\n",
        "total = 0\n",
        "for images, labels in test_loader:\n",
        "    adversarial_images = fgsm_attack(model, images, labels, epsilon=0.1)\n",
        "    outputs = model(adversarial_images)\n",
        "    _, predicted = torch.max(outputs, 1)\n",
        "    total += labels.size(0)\n",
        "    correct += (predicted == labels).sum().item()\n",
        "\n",
        "adversarial_accuracy = 100 * correct / total\n",
        "print(f'Accuracy on adversarial examples: {adversarial_accuracy:.2f}%')\n"
      ],
      "metadata": {
        "colab": {
          "base_uri": "https://localhost:8080/",
          "height": 629
        },
        "id": "poTF5WzIEv6H",
        "outputId": "49b1c9f9-ecdb-4fc8-fd31-1a7f593f4ba5"
      },
      "execution_count": null,
      "outputs": [
        {
          "output_type": "display_data",
          "data": {
            "text/plain": [
              "<Figure size 1000x1000 with 10 Axes>"
            ],
            "image/png": "[encoded data removed]"
          },
          "metadata": {}
        },
        {
          "output_type": "stream",
          "name": "stdout",
          "text": [
            "Accuracy on adversarial examples: 88.06%\n"
          ]
        }
      ]
    },
    {
      "cell_type": "code",
      "source": [
        "def feature_squeezing(image, squeeze_factor=2):\n",
        "    # Squeeze the feature by reducing the bit-depth (round to nearest integer)\n",
        "    squeezed_image = image.clone()\n",
        "    squeezed_image = (squeezed_image * squeeze_factor).round() / squeeze_factor\n",
        "    return squeezed_image\n"
      ],
      "metadata": {
        "id": "VK6iNpyyH75n"
      },
      "execution_count": null,
      "outputs": []
    },
    {
      "cell_type": "code",
      "source": [
        "# Feature Squeezing + Adversarial Attack\n",
        "def evaluate_with_defense(model, test_loader, epsilon=0.1, squeeze_factor=2):\n",
        "    model.eval()\n",
        "    correct = 0\n",
        "    total = 0\n",
        "    for images, labels in test_loader:\n",
        "        # Apply Feature Squeezing to the images\n",
        "        squeezed_images = feature_squeezing(images, squeeze_factor)\n",
        "\n",
        "        # Generate adversarial examples from the squeezed images\n",
        "        adversarial_images = fgsm_attack(model, squeezed_images, labels, epsilon)\n",
        "\n",
        "        # Forward pass with adversarial images\n",
        "        outputs = model(adversarial_images)\n",
        "\n",
        "        # Get the predicted class\n",
        "        _, predicted = torch.max(outputs.data, 1)\n",
        "\n",
        "        # Calculate accuracy\n",
        "        total += labels.size(0)\n",
        "        correct += (predicted == labels).sum().item()\n",
        "\n",
        "    accuracy = correct / total * 100\n",
        "    print(f'Accuracy on adversarial examples with feature squeezing: {accuracy:.2f}%')\n",
        "\n",
        "# Run the evaluation with defense\n",
        "evaluate_with_defense(model, test_loader)\n"
      ],
      "metadata": {
        "colab": {
          "base_uri": "https://localhost:8080/"
        },
        "id": "aTPTc-bfIY1Z",
        "outputId": "62d55a75-22b6-40e5-cbf2-950dbaf6c7eb"
      },
      "execution_count": null,
      "outputs": [
        {
          "output_type": "stream",
          "name": "stdout",
          "text": [
            "Accuracy on adversarial examples with feature squeezing: 88.52%\n"
          ]
        }
      ]
    },
    {
      "cell_type": "code",
      "source": [
        "import torch\n",
        "import torch.nn as nn\n",
        "import torch.nn.functional as F\n",
        "\n",
        "# Define the same architecture as your target model (Net)\n",
        "class Net(nn.Module):\n",
        "    def __init__(self):\n",
        "        super(Net, self).__init__()\n",
        "        self.conv1 = nn.Conv2d(1, 32, kernel_size=3, stride=1, padding=1)\n",
        "        self.conv2 = nn.Conv2d(32, 64, kernel_size=3, stride=1, padding=1)\n",
        "        self.conv3 = nn.Conv2d(64, 128, kernel_size=3, stride=1, padding=1)\n",
        "        self.fc1 = nn.Linear(128 * 3 * 3, 128)  # Updated size\n",
        "        self.fc2 = nn.Linear(128, 10)  # Assuming 10 output classes (e.g., for MNIST)\n",
        "        self.pool = nn.MaxPool2d(2, 2)\n",
        "\n",
        "    def forward(self, x):\n",
        "        x = self.pool(F.relu(self.conv1(x)))\n",
        "        x = self.pool(F.relu(self.conv2(x)))\n",
        "        x = self.pool(F.relu(self.conv3(x)))\n",
        "\n",
        "        # Flatten the tensor dynamically based on the computed size\n",
        "        x = x.view(x.size(0), -1)  # Flatten\n",
        "\n",
        "        x = F.relu(self.fc1(x))\n",
        "        x = self.fc2(x)\n",
        "        return x\n"
      ],
      "metadata": {
        "id": "bryI4nG0J2PE"
      },
      "execution_count": null,
      "outputs": []
    },
    {
      "cell_type": "code",
      "source": [
        "# Step 1: Train a surrogate model (attacker's model)\n",
        "def train_surrogate_model(train_loader):\n",
        "    surrogate_model = Net()  # Same model architecture as the target model\n",
        "    criterion = nn.CrossEntropyLoss()\n",
        "    optimizer = torch.optim.Adam(surrogate_model.parameters(), lr=0.001)\n",
        "\n",
        "    for epoch in range(10):\n",
        "        surrogate_model.train()\n",
        "        running_loss = 0.0\n",
        "        for images, labels in train_loader:\n",
        "            optimizer.zero_grad()\n",
        "            outputs = surrogate_model(images)\n",
        "            loss = criterion(outputs, labels)\n",
        "            loss.backward()\n",
        "            optimizer.step()\n",
        "            running_loss += loss.item()\n",
        "\n",
        "        print(f\"Surrogate Model Epoch {epoch+1}/10, Loss: {running_loss/len(train_loader)}\")\n",
        "\n",
        "    return surrogate_model\n",
        "\n",
        "# Step 2: Generate adversarial examples using the surrogate model\n",
        "def generate_adversarial_examples_surrogate(surrogate_model, images, labels, epsilon=0.1):\n",
        "    surrogate_model.eval()\n",
        "    images.requires_grad = True\n",
        "    output = surrogate_model(images)\n",
        "    loss = criterion(output, labels)\n",
        "\n",
        "    surrogate_model.zero_grad()\n",
        "    loss.backward()\n",
        "    image_grad = images.grad.data\n",
        "    adversarial_images = images + epsilon * image_grad.sign()\n",
        "    adversarial_images = torch.clamp(adversarial_images, 0, 1)\n",
        "\n",
        "    return adversarial_images\n",
        "\n",
        "# Step 3: Evaluate the target model on adversarial examples generated by the surrogate\n",
        "def evaluate_black_box_attack(target_model, surrogate_model, test_loader, epsilon=0.1):\n",
        "    target_model.eval()\n",
        "    correct = 0\n",
        "    total = 0\n",
        "    for images, labels in test_loader:\n",
        "        adversarial_images = generate_adversarial_examples_surrogate(surrogate_model, images, labels, epsilon)\n",
        "        outputs = target_model(adversarial_images)\n",
        "        _, predicted = torch.max(outputs, 1)\n",
        "        total += labels.size(0)\n",
        "        correct += (predicted == labels).sum().item()\n",
        "\n",
        "    accuracy = 100 * correct / total\n",
        "    print(f\"Accuracy on black-box attack examples: {accuracy:.2f}%\")\n",
        "\n",
        "# Train surrogate model\n",
        "surrogate_model = train_surrogate_model(train_loader)\n",
        "\n",
        "# Evaluate target model using black-box attack\n",
        "evaluate_black_box_attack(model, surrogate_model, test_loader)\n"
      ],
      "metadata": {
        "colab": {
          "base_uri": "https://localhost:8080/"
        },
        "id": "duMlpWRsJKlt",
        "outputId": "3dc53333-c9d9-470b-dcb4-b86d2fc7aced"
      },
      "execution_count": null,
      "outputs": [
        {
          "output_type": "stream",
          "name": "stdout",
          "text": [
            "Surrogate Model Epoch 1/10, Loss: 0.2199270779421843\n",
            "Surrogate Model Epoch 2/10, Loss: 0.04945910558986193\n",
            "Surrogate Model Epoch 3/10, Loss: 0.03445853983149626\n",
            "Surrogate Model Epoch 4/10, Loss: 0.026757428437463447\n",
            "Surrogate Model Epoch 5/10, Loss: 0.020015457358364182\n",
            "Surrogate Model Epoch 6/10, Loss: 0.016917935254718505\n",
            "Surrogate Model Epoch 7/10, Loss: 0.015050063337343855\n",
            "Surrogate Model Epoch 8/10, Loss: 0.014564925330354205\n",
            "Surrogate Model Epoch 9/10, Loss: 0.009494309015824015\n",
            "Surrogate Model Epoch 10/10, Loss: 0.010284525951123493\n",
            "Accuracy on black-box attack examples: 90.88%\n"
          ]
        }
      ]
    }
  ],
  "metadata": {
    "accelerator": "GPU",
    "colab": {
      "gpuType": "T4",
      "provenance": [],
      "authorship_tag": "ABX9TyMeTaNhOb/5NmwyfwwGnhCL",
      "include_colab_link": true
    },
    "kernelspec": {
      "display_name": "Python 3",
      "name": "python3"
    },
    "language_info": {
      "name": "python"
    }
  },
  "nbformat": 4,
  "nbformat_minor": 0
}